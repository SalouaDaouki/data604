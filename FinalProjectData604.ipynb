{
  "nbformat": 4,
  "nbformat_minor": 0,
  "metadata": {
    "colab": {
      "provenance": [],
      "authorship_tag": "ABX9TyO+doQVRq70luwHecKrxQBH",
      "include_colab_link": true
    },
    "kernelspec": {
      "name": "python3",
      "display_name": "Python 3"
    },
    "language_info": {
      "name": "python"
    }
  },
  "cells": [
    {
      "cell_type": "markdown",
      "metadata": {
        "id": "view-in-github",
        "colab_type": "text"
      },
      "source": [
        "<a href=\"https://colab.research.google.com/github/SalouaDaouki/data604/blob/main/FinalProjectData604.ipynb\" target=\"_parent\"><img src=\"https://colab.research.google.com/assets/colab-badge.svg\" alt=\"Open In Colab\"/></a>"
      ]
    },
    {
      "cell_type": "markdown",
      "source": [
        "The Problem:\n",
        "\n",
        "Using SimPy, write a process simulation that includes waiting time (discrete event simulation).  You may use any topic of interest to you.  Write the simulation and all of the following in Jupyter.\n",
        "\n",
        "Each element is worth 5 points and will be graded using the rubric shown here.\n",
        "\n",
        "1.  State the problem and its significance.\n",
        "\n",
        "2.  Provide a flow-chart model.\n",
        "\n",
        "3.  Simulate the process for the appropriate number of iterations (justify)\n",
        "\n",
        "4.  Justify the validity of the model and discuss how you verified it.\n",
        "\n",
        "5.  State  your conclusions/ findings from the model.\n",
        "\n",
        "6.  Generate appropriate graphs (more than one) to illustrate the results and provide a PowerPoint presentation to share with your colleagues.  Post this to the discussion."
      ],
      "metadata": {
        "id": "S1ZU0yn0nPV3"
      }
    },
    {
      "cell_type": "markdown",
      "source": [
        "1. State the problem and its significance.\n",
        "\n",
        "**Problem:**\n",
        "\n",
        "The problem is to simulate the flow of 1600 students in the morning as they use [Yondr Pouches](https://www.overyondr.com/phone-locking-pouch) to store their cell phones, and to have them checked by school aids to ensure that they are locked at 4 school entrances to optimize efficiency and identify potential issues.\n",
        "\n",
        "**Its significance:**\n",
        "\n",
        "Efficiently managing the morning flow of students is crucial to ensure a smooth start to the school day. Delays at the entrance due to the Yondr pouch system can lead to late arrivals in classrooms and a chaotic start to the day. By simulating the process, we can identify potential issues, optimize resource allocation, and propose strategies to improve the flow of students. The goal is to ensuring smooth student entry without delays.\n",
        "\n",
        "2. Provide a flow-chart model.\n",
        "\n",
        "Please see below"
      ],
      "metadata": {
        "id": "zkMqm7dpoVSj"
      }
    },
    {
      "cell_type": "code",
      "source": [
        "pip install graphviz"
      ],
      "metadata": {
        "colab": {
          "base_uri": "https://localhost:8080/"
        },
        "id": "AJoC_EEYnUd-",
        "outputId": "c8512726-dee0-465a-cd66-8e3ee7bba373"
      },
      "execution_count": 1,
      "outputs": [
        {
          "output_type": "stream",
          "name": "stdout",
          "text": [
            "Requirement already satisfied: graphviz in /usr/local/lib/python3.10/dist-packages (0.20.3)\n"
          ]
        }
      ]
    },
    {
      "cell_type": "code",
      "source": [
        "from graphviz import Digraph"
      ],
      "metadata": {
        "id": "trq7OFR6nfZn"
      },
      "execution_count": 2,
      "outputs": []
    },
    {
      "cell_type": "code",
      "source": [
        "# Create a new directed graph\n",
        "dot = Digraph()"
      ],
      "metadata": {
        "id": "T0mKdkDHnkzH"
      },
      "execution_count": 3,
      "outputs": []
    },
    {
      "cell_type": "code",
      "source": [
        "# Define the nodes\n",
        "dot.node('A', 'Students Arrive at School')\n",
        "dot.node('B', 'Place Phones and EarPods in Yondr Pouches')\n",
        "dot.node('C', 'Manually Lock Yondr Pouches')\n",
        "dot.node('D', 'School Aides Check Pouches')\n",
        "dot.node('E', 'Enter School Building')"
      ],
      "metadata": {
        "id": "8A2kTF5unoLj"
      },
      "execution_count": 4,
      "outputs": []
    },
    {
      "cell_type": "code",
      "source": [
        "# Define the edges\n",
        "dot.edges(['AB', 'BC', 'CD', 'DE'])"
      ],
      "metadata": {
        "id": "EodlOx5nnqzW"
      },
      "execution_count": 5,
      "outputs": []
    },
    {
      "cell_type": "code",
      "source": [
        "# Render the graph\n",
        "dot.render('student_entry_process', format='png', view=True)"
      ],
      "metadata": {
        "colab": {
          "base_uri": "https://localhost:8080/",
          "height": 35
        },
        "id": "ZZVmFm88nuoY",
        "outputId": "cc06cbcf-c25a-4a78-acb0-cee2094fb324"
      },
      "execution_count": 6,
      "outputs": [
        {
          "output_type": "execute_result",
          "data": {
            "text/plain": [
              "'student_entry_process.png'"
            ],
            "application/vnd.google.colaboratory.intrinsic+json": {
              "type": "string"
            }
          },
          "metadata": {},
          "execution_count": 6
        }
      ]
    },
    {
      "cell_type": "markdown",
      "source": [
        "The flow-chart visually represents the steps involved in the student entry process:"
      ],
      "metadata": {
        "id": "HR_do8L0ic8e"
      }
    },
    {
      "cell_type": "code",
      "source": [
        "# Display the graph in the notebook\n",
        "dot"
      ],
      "metadata": {
        "colab": {
          "base_uri": "https://localhost:8080/",
          "height": 464
        },
        "id": "BDzWwLuCnwJl",
        "outputId": "8b28dce0-118e-4a37-b635-45f6c844decd"
      },
      "execution_count": 7,
      "outputs": [
        {
          "output_type": "execute_result",
          "data": {
            "image/svg+xml": "<?xml version=\"1.0\" encoding=\"UTF-8\" standalone=\"no\"?>\n<!DOCTYPE svg PUBLIC \"-//W3C//DTD SVG 1.1//EN\"\n \"http://www.w3.org/Graphics/SVG/1.1/DTD/svg11.dtd\">\n<!-- Generated by graphviz version 2.43.0 (0)\n -->\n<!-- Title: %3 Pages: 1 -->\n<svg width=\"346pt\" height=\"332pt\"\n viewBox=\"0.00 0.00 345.97 332.00\" xmlns=\"http://www.w3.org/2000/svg\" xmlns:xlink=\"http://www.w3.org/1999/xlink\">\n<g id=\"graph0\" class=\"graph\" transform=\"scale(1 1) rotate(0) translate(4 328)\">\n<title>%3</title>\n<polygon fill=\"white\" stroke=\"transparent\" points=\"-4,4 -4,-328 341.97,-328 341.97,4 -4,4\"/>\n<!-- A -->\n<g id=\"node1\" class=\"node\">\n<title>A</title>\n<ellipse fill=\"none\" stroke=\"black\" cx=\"168.99\" cy=\"-306\" rx=\"101.28\" ry=\"18\"/>\n<text text-anchor=\"middle\" x=\"168.99\" y=\"-302.3\" font-family=\"Times,serif\" font-size=\"14.00\">Students Arrive at School</text>\n</g>\n<!-- B -->\n<g id=\"node2\" class=\"node\">\n<title>B</title>\n<ellipse fill=\"none\" stroke=\"black\" cx=\"168.99\" cy=\"-234\" rx=\"168.97\" ry=\"18\"/>\n<text text-anchor=\"middle\" x=\"168.99\" y=\"-230.3\" font-family=\"Times,serif\" font-size=\"14.00\">Place Phones and EarPods in Yondr Pouches</text>\n</g>\n<!-- A&#45;&gt;B -->\n<g id=\"edge1\" class=\"edge\">\n<title>A&#45;&gt;B</title>\n<path fill=\"none\" stroke=\"black\" d=\"M168.99,-287.7C168.99,-279.98 168.99,-270.71 168.99,-262.11\"/>\n<polygon fill=\"black\" stroke=\"black\" points=\"172.49,-262.1 168.99,-252.1 165.49,-262.1 172.49,-262.1\"/>\n</g>\n<!-- C -->\n<g id=\"node3\" class=\"node\">\n<title>C</title>\n<ellipse fill=\"none\" stroke=\"black\" cx=\"168.99\" cy=\"-162\" rx=\"120.78\" ry=\"18\"/>\n<text text-anchor=\"middle\" x=\"168.99\" y=\"-158.3\" font-family=\"Times,serif\" font-size=\"14.00\">Manually Lock Yondr Pouches</text>\n</g>\n<!-- B&#45;&gt;C -->\n<g id=\"edge2\" class=\"edge\">\n<title>B&#45;&gt;C</title>\n<path fill=\"none\" stroke=\"black\" d=\"M168.99,-215.7C168.99,-207.98 168.99,-198.71 168.99,-190.11\"/>\n<polygon fill=\"black\" stroke=\"black\" points=\"172.49,-190.1 168.99,-180.1 165.49,-190.1 172.49,-190.1\"/>\n</g>\n<!-- D -->\n<g id=\"node4\" class=\"node\">\n<title>D</title>\n<ellipse fill=\"none\" stroke=\"black\" cx=\"168.99\" cy=\"-90\" rx=\"114.28\" ry=\"18\"/>\n<text text-anchor=\"middle\" x=\"168.99\" y=\"-86.3\" font-family=\"Times,serif\" font-size=\"14.00\">School Aides Check Pouches</text>\n</g>\n<!-- C&#45;&gt;D -->\n<g id=\"edge3\" class=\"edge\">\n<title>C&#45;&gt;D</title>\n<path fill=\"none\" stroke=\"black\" d=\"M168.99,-143.7C168.99,-135.98 168.99,-126.71 168.99,-118.11\"/>\n<polygon fill=\"black\" stroke=\"black\" points=\"172.49,-118.1 168.99,-108.1 165.49,-118.1 172.49,-118.1\"/>\n</g>\n<!-- E -->\n<g id=\"node5\" class=\"node\">\n<title>E</title>\n<ellipse fill=\"none\" stroke=\"black\" cx=\"168.99\" cy=\"-18\" rx=\"89.88\" ry=\"18\"/>\n<text text-anchor=\"middle\" x=\"168.99\" y=\"-14.3\" font-family=\"Times,serif\" font-size=\"14.00\">Enter School Building</text>\n</g>\n<!-- D&#45;&gt;E -->\n<g id=\"edge4\" class=\"edge\">\n<title>D&#45;&gt;E</title>\n<path fill=\"none\" stroke=\"black\" d=\"M168.99,-71.7C168.99,-63.98 168.99,-54.71 168.99,-46.11\"/>\n<polygon fill=\"black\" stroke=\"black\" points=\"172.49,-46.1 168.99,-36.1 165.49,-46.1 172.49,-46.1\"/>\n</g>\n</g>\n</svg>\n",
            "text/plain": [
              "<graphviz.graphs.Digraph at 0x7e649e014550>"
            ]
          },
          "metadata": {},
          "execution_count": 7
        }
      ]
    },
    {
      "cell_type": "markdown",
      "source": [
        "3. Simulate the process for the appropriate number of iterations (justify)\n",
        "\n",
        "I think we need to increase the number of iterations to capture more variability. In other words, we need to simulate several weeks to observe different days and conditions."
      ],
      "metadata": {
        "id": "TfwRQB-_ojRT"
      }
    },
    {
      "cell_type": "code",
      "source": [
        "pip install simpy"
      ],
      "metadata": {
        "colab": {
          "base_uri": "https://localhost:8080/"
        },
        "id": "OHdEuFebx5ya",
        "outputId": "208e99ac-b718-4d48-ea8f-cafe5127a245"
      },
      "execution_count": 9,
      "outputs": [
        {
          "output_type": "stream",
          "name": "stdout",
          "text": [
            "Collecting simpy\n",
            "  Downloading simpy-4.1.1-py3-none-any.whl (27 kB)\n",
            "Installing collected packages: simpy\n",
            "Successfully installed simpy-4.1.1\n"
          ]
        }
      ]
    },
    {
      "cell_type": "code",
      "source": [
        "import simpy\n",
        "import random\n",
        "import matplotlib.pyplot as plt"
      ],
      "metadata": {
        "id": "TAD5WOJfxpBP"
      },
      "execution_count": 10,
      "outputs": []
    },
    {
      "cell_type": "markdown",
      "source": [
        "**Parameters:**\n",
        " - *arrival rate:* I assumed that 10 students will be arriving every minute considering the size of the school and its population that consists of 1600 students.\n",
        "\n",
        " - *lock time:* The Yondr pouches are new for everyone including students, so I assumed it will take them about 30 seconds to lock it manually.\n",
        "\n",
        " - *simulation time:* the simulation will run over a period of 1/2 hours; longer period allows for multiple iterations to simulate different days or scenarios, for better insights. However, in my school, students start lining up around 8:20, then the doors open at 8:30 so students can get to the advisory/homeroom at 8:35.\n",
        "\n",
        " -*Number of students*: the population of the school can reach 2000 students. During the last couple of years, the population had an average of 1600, so I am using that number for my simulation.\n",
        "\n",
        " - *number of sentrances:* in total, there are 13 entrances/exits at the school. During dismissal, all 13 entrances are used to facilitate the flow of students leaving. However, in the morning, only 4 entrances are open to efficiently manage the entry process with adequate staff supervision.\n",
        "\n",
        " - *and aides per entrance:* there will be at least 2 school aides stationed at each entrance to check the pouches."
      ],
      "metadata": {
        "id": "8mHIbSVX3_Ae"
      }
    },
    {
      "cell_type": "code",
      "source": [
        "# Parameters\n",
        "arrival_rate = 10  # Average arrival rate of students per minute\n",
        "lock_time = 1/2  # Average time for students to lock pouches manually (minutes)\n",
        "simulation_time = 30  # Total simulation time in minutes (1/2 hours)\n",
        "num_students = 1600  # Total number of students\n",
        "num_entrances = 4  # Number of entrances used in the morning\n",
        "num_aids_per_entrance = 2  # Number of school aides per entrance checking pouches"
      ],
      "metadata": {
        "id": "Rc3j1Pe_yBPA"
      },
      "execution_count": 34,
      "outputs": []
    },
    {
      "cell_type": "code",
      "source": [
        "# Student process\n",
        "def student(env, name, school):\n",
        "    arrival_time = env.now\n",
        "    print(f\"{name} arrives at school at {arrival_time:.2f}\")\n",
        "\n",
        "    # Place cell phone and EarPods in Yondr pouch\n",
        "    yield env.timeout(random.uniform(0.5, 1))  # Random time to place items in pouch\n",
        "\n",
        "    # Lock Yondr pouch manually\n",
        "    yield env.timeout(random.expovariate(1 / lock_time))\n",
        "\n",
        "    # Security check by school aides\n",
        "    yield env.timeout(random.uniform(0.5, 1))  # Random check time\n",
        "\n",
        "    entry_time = env.now\n",
        "    print(f\"{name} enters school at {entry_time:.2f}\")\n",
        "    school.entry_times.append(entry_time)"
      ],
      "metadata": {
        "id": "8l-5TduT1EOr"
      },
      "execution_count": 42,
      "outputs": []
    },
    {
      "cell_type": "markdown",
      "source": [
        "The purpose of the provided code is to simulate the process of a student entering the school in the morning under the new Yondr pouch system. Here's a detailed explanation of each part of the code:\n",
        "\n",
        "### Student Process\n",
        "This function simulates the journey of a student from arriving at school to entering the building.\n",
        "\n",
        "```python\n",
        "def student(env, name, school):\n",
        "```\n",
        "- **env**: The SimPy environment, which handles the simulation time.\n",
        "- **name**: The name of the student, used for identification in the simulation.\n",
        "- **school**: An instance of the `School` class, which stores entry times for later analysis.\n",
        "\n",
        "```python\n",
        "    arrival_time = env.now\n",
        "    print(f\"{name} arrives at school at {arrival_time:.2f}\")\n",
        "```\n",
        "- **arrival_time = env.now**: Records the time at which the student arrives at school.\n",
        "- **print statement**: Outputs the arrival time for each student for monitoring purposes.\n",
        "\n",
        "### Placing Cell Phone and EarPods in Yondr Pouch\n",
        "```python\n",
        "    # Place cell phone and EarPods in Yondr pouch\n",
        "    yield env.timeout(random.uniform(0.5, 1))  # Random time to place items in pouch\n",
        "```\n",
        "- **yield env.timeout(random.uniform(0.5, 1))**: Simulates the time taken by the student to place their cell phone and EarPods in the Yondr pouch. The time is randomly chosen between 0.5 to 1 minute to account for variability among students.\n",
        "\n",
        "### Locking Yondr Pouch Manually\n",
        "```python\n",
        "    # Lock Yondr pouch manually\n",
        "    yield env.timeout(random.expovariate(1 / lock_time))\n",
        "```\n",
        "- **yield env.timeout(random.expovariate(1 / lock_time))**: Simulates the time taken to manually lock the Yondr pouch. The time follows an exponential distribution with a mean of `lock_time` to reflect the randomness of the process.\n",
        "\n",
        "### Security Check by School Aides\n",
        "```python\n",
        "    # Security check by school aides\n",
        "    yield env.timeout(random.uniform(0.5, 1))  # Random check time\n",
        "```\n",
        "- **yield env.timeout(random.uniform(0.5, 1))**: Simulates the time taken for the school aides to check that the Yondr pouch is properly locked. The time is randomly chosen between 0.5 to 1 minute.\n",
        "\n",
        "### Recording Entry Time\n",
        "```python\n",
        "    entry_time = env.now\n",
        "    print(f\"{name} enters school at {entry_time:.2f}\")\n",
        "    school.entry_times.append(entry_time)\n",
        "```\n",
        "- **entry_time = env.now**: Records the time at which the student completes all the steps and enters the school building.\n",
        "- **print statement**: Outputs the entry time for each student for monitoring purposes.\n",
        "- **school.entry_times.append(entry_time)**: Stores the entry time in the `entry_times` list of the `school` object for later analysis.\n",
        "\n",
        "Overall, this code models the entry process of students, including waiting times for placing items in pouches, locking the pouches, and security checks. It collects data on entry times to analyze the efficiency of the process."
      ],
      "metadata": {
        "id": "NooOflyQz6aF"
      }
    },
    {
      "cell_type": "code",
      "source": [
        "# School resources\n",
        "class School:\n",
        "    def __init__(self, env):\n",
        "        self.env = env\n",
        "        self.entry_times = []"
      ],
      "metadata": {
        "id": "fJegJmSO2A99"
      },
      "execution_count": 43,
      "outputs": []
    },
    {
      "cell_type": "code",
      "source": [
        "# Simulation setup\n",
        "def run_simulation(num_iterations):\n",
        "    all_entry_times = []  # List to store all entry times across iterations\n",
        "    for i in range(num_iterations):\n",
        "        random.seed(i)\n",
        "        env = simpy.Environment()\n",
        "        school = School(env)\n",
        "        env.process(student_generator(env, school))\n",
        "        env.run(until=simulation_time)\n",
        "        all_entry_times.extend(school.entry_times)  # Collect all entry times\n",
        "\n",
        "    # Generate time series plot outside the simulation loop\n",
        "    time_points = range(0, simulation_time + 1)  # Adjusted to include all minutes\n",
        "    # Aggregate entry times across all iterations for plotting\n",
        "    entry_counts = [0] * (simulation_time + 1)\n",
        "    for time in all_entry_times:\n",
        "        entry_counts[int(time)] += 1\n",
        "    plt.figure(figsize=(10, 6))\n",
        "    plt.plot(time_points, entry_counts, marker='o', linestyle='-', color='b')\n",
        "    plt.title('Student Entries Over Time')\n",
        "    plt.xlabel('Time (minutes)')\n",
        "    plt.ylabel('Number of Students Entered')\n",
        "    plt.grid(True)\n",
        "    plt.show()\n",
        "\n",
        "    # Return all entry times collected across all iterations\n",
        "    return all_entry_times"
      ],
      "metadata": {
        "id": "KYti1xM_2M1b"
      },
      "execution_count": 48,
      "outputs": []
    },
    {
      "cell_type": "code",
      "source": [
        "# Student generator\n",
        "def student_generator(env, school):\n",
        "    for i in range(num_students):\n",
        "        yield env.timeout(random.expovariate(1 / arrival_rate))  # Adjusted arrival rate\n",
        "        env.process(student(env, f\"Student {i+1}\", school))"
      ],
      "metadata": {
        "id": "N9E2-IE92Vpq"
      },
      "execution_count": 49,
      "outputs": []
    },
    {
      "cell_type": "markdown",
      "source": [
        "My simulation employed parameters reflecting an average arrival rate, typical pouch locking times, and realistic simulation time. I verified the model through logical consistency in student entry patterns and sensitivity analysis of parameters like arrival rate. To capture variability and different scenarios, 5 iterations (representing weeks) were simulated. This allows for observing patterns across multiple instances and validating the model's robustness."
      ],
      "metadata": {
        "id": "HTKg4gVWBEIV"
      }
    },
    {
      "cell_type": "code",
      "source": [
        "# Run the simulation\n",
        "num_iterations = 5  # Number of iterations (weeks)\n",
        "all_entry_times = run_simulation(num_iterations)"
      ],
      "metadata": {
        "colab": {
          "base_uri": "https://localhost:8080/",
          "height": 1000
        },
        "id": "5T3f7-AM2Yc_",
        "outputId": "075befbf-44e6-4b6a-f99e-7d2d69033c2b"
      },
      "execution_count": 50,
      "outputs": [
        {
          "output_type": "stream",
          "name": "stdout",
          "text": [
            "Student 1 arrives at school at 18.61\n",
            "Student 1 enters school at 20.22\n",
            "Student 1 arrives at school at 1.44\n",
            "Student 1 enters school at 3.22\n",
            "Student 2 arrives at school at 20.24\n",
            "Student 2 enters school at 22.39\n",
            "Student 3 arrives at school at 26.21\n",
            "Student 4 arrives at school at 26.50\n",
            "Student 3 enters school at 27.86\n",
            "Student 4 enters school at 28.64\n",
            "Student 1 arrives at school at 2.72\n",
            "Student 1 enters school at 4.68\n",
            "Student 2 arrives at school at 10.58\n",
            "Student 3 arrives at school at 11.25\n",
            "Student 2 enters school at 12.73\n",
            "Student 4 arrives at school at 14.26\n",
            "Student 3 enters school at 15.41\n",
            "Student 4 enters school at 15.89\n",
            "Student 1 arrives at school at 2.69\n",
            "Student 2 arrives at school at 3.78\n",
            "Student 1 enters school at 4.01\n",
            "Student 2 enters school at 6.43\n",
            "Student 3 arrives at school at 8.92\n",
            "Student 3 enters school at 10.43\n",
            "Student 4 arrives at school at 11.43\n",
            "Student 5 arrives at school at 12.55\n",
            "Student 5 enters school at 14.21\n",
            "Student 4 enters school at 14.24\n"
          ]
        },
        {
          "output_type": "display_data",
          "data": {
            "text/plain": [
              "<Figure size 1000x600 with 1 Axes>"
            ],
            "image/png": "[encoded data removed]"
          },
          "metadata": {}
        }
      ]
    },
    {
      "cell_type": "code",
      "source": [
        "# Print average entry time across all iterations\n",
        "average_entry_time = sum(all_entry_times) / len(all_entry_times)\n",
        "print(f\"Average entry time across all iterations: {average_entry_time:.2f} minutes\")"
      ],
      "metadata": {
        "colab": {
          "base_uri": "https://localhost:8080/"
        },
        "id": "sVpcoY_oCuEk",
        "outputId": "614ebaa4-e76e-4f91-ffbc-7f318e31f293"
      },
      "execution_count": 51,
      "outputs": [
        {
          "output_type": "stream",
          "name": "stdout",
          "text": [
            "Average entry time across all iterations: 14.31 minutes\n"
          ]
        }
      ]
    },
    {
      "cell_type": "code",
      "source": [
        "# Generate histogram of student entry times\n",
        "plt.figure(figsize=(10, 6))\n",
        "plt.hist(all_entry_times, bins=20, edgecolor='black')\n",
        "plt.title('Distribution of Student Entry Times')\n",
        "plt.xlabel('Entry Time (minutes)')\n",
        "plt.ylabel('Frequency')\n",
        "plt.grid(True)\n",
        "plt.show()"
      ],
      "metadata": {
        "colab": {
          "base_uri": "https://localhost:8080/",
          "height": 564
        },
        "id": "N84YdwqHwG5L",
        "outputId": "874146f7-5bda-444b-b2be-bf2888962917"
      },
      "execution_count": 52,
      "outputs": [
        {
          "output_type": "display_data",
          "data": {
            "text/plain": [
              "<Figure size 1000x600 with 1 Axes>"
            ],
            "image/png": "[encoded data removed]"
          },
          "metadata": {}
        }
      ]
    },
    {
      "cell_type": "markdown",
      "source": [
        "4. Justify the validity of the model and discuss how you verified it.\n",
        "\n",
        "- The model's validity is ensured through realistic parameters and logical flow representation of the entry process. SimPy's discrete event simulation accurately reflects the stochastic nature of student arrivals, pouch locking, and security checks.\n",
        "\n",
        "- Verification was achieved by comparing simulated outcomes with expected behaviors and conducting sensitivity analysis on key parameters (e.g., arrival rate). Patterns observed in simulations align with expected school entry dynamics. Given that the Yondr pouch system is scheduled for implementation next year at our school, verification is based on simulated outcomes rather than direct comparisons with real-world data."
      ],
      "metadata": {
        "id": "ZK1b8Y0DjIja"
      }
    },
    {
      "cell_type": "markdown",
      "source": [
        "5. Conclusions/ findings from the model:\n",
        "\n",
        "Based on the simulation and resulting graphs, there are peaks around 4, 14, and 15 minutes which indicate clusters of student entries, possibly reflecting rush periods during entry. In addition, majority of entries occur during specific periods, with smaller peaks indicating subsequent student arrivals. In other words, there are consistent patterns of entry indicate a structured flow, while variability highlights potential points of congestion or efficiency improvements.\n",
        "\n",
        "Based on those findings, we can improve the flow of students by the following:\n",
        "\n",
        "- *Optimization strategies*: Place more school aides at entrances during the busiest times to help students get through the line faster.\n",
        "\n",
        "- *Improve the process*: I am not sure how to refine the process of locking the pouches to make students enter faster, because the pouches can be locked with one click. However, we can make the steps of checking the pouches quicker, maybe by stationing more school staff by the entrances so the flow of the students can be faster.\n",
        "\n",
        "- *Try different simulations*: maybe we can test different scenarios by changing the parameters (like arrival rates or check times) to see how the entry process holds up under different conditions and to predict long-term effects."
      ],
      "metadata": {
        "id": "BOF_oApuj00z"
      }
    }
  ]
}